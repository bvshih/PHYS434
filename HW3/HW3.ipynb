{
 "cells": [
  {
   "cell_type": "code",
   "execution_count": null,
   "id": "d98716f9-1f47-4d23-a3e8-2a218f8f9d93",
   "metadata": {},
   "outputs": [],
   "source": [
    "import numpy as np"
   ]
  },
  {
   "cell_type": "markdown",
   "id": "7a8bd123-d8f8-475a-b1b2-dd59811ced7f",
   "metadata": {},
   "source": [
    "# Problem 1\n",
    "\n",
    "a) NN makes the fewest mistakes. It makes 8 mistakes while NA makes 12 mistakes.\n",
    "\n",
    "b) NA since the priority is to keep birds in and the penalty for locking in a human is not as high as letting out a bird.\n",
    "\n",
    "c) NN is index 0, NA is index 1."
   ]
  },
  {
   "cell_type": "code",
   "execution_count": 14,
   "id": "b2586728-6858-4adc-8535-c21004b360dc",
   "metadata": {},
   "outputs": [
    {
     "name": "stdout",
     "output_type": "stream",
     "text": [
      "bird error: [0.0625, 0.020833333333333332]\n",
      "human error: [0.09615384615384616, 0.21153846153846154]\n",
      "false bird:[6.1875, 2.0625]\n",
      "false human: [0.09615384615384616, 0.21153846153846154]\n",
      "true bird: [92.8125, 96.9375]\n",
      "true human: [0.9038461538461539, 0.7884615384615384]\n"
     ]
    }
   ],
   "source": [
    "\n",
    "human = 52\n",
    "bird = 48\n",
    "true_bird = [45 , 47]\n",
    "false_bird = [5,11]\n",
    "true_person = [47,42]\n",
    "false_person = [3,1]\n",
    "\n",
    "bird_error = []\n",
    "human_error = []\n",
    "\n",
    "for i in range(len(true_bird)):\n",
    "    bird_error.append(false_person[i]/bird)\n",
    "    human_error.append(false_bird[i]/human)\n",
    "\n",
    "print('bird error: ' + str(bird_error))\n",
    "print('human error: ' + str(human_error))\n",
    "pandemic_false_bird = []\n",
    "pandemic_true_bird = []\n",
    "pandemic_false_human = []\n",
    "pandemic_true_human = []\n",
    "\n",
    "for i in range(len(true_bird)):\n",
    "    pandemic_false_bird.append(bird_error[i]*99)\n",
    "    pandemic_false_human.append(human_error[i]*1)\n",
    "    pandemic_true_human.append((1-human_error[i])*1)\n",
    "    pandemic_true_bird.append((1-bird_error[i])*99)\n",
    "    \n",
    "print('false bird:'  + str(pandemic_false_bird))\n",
    "print('false human: ' + str(pandemic_false_human))\n",
    "print('true bird: '+ str(pandemic_true_bird))\n",
    "print('true human: ' + str(pandemic_true_human))"
   ]
  },
  {
   "cell_type": "markdown",
   "id": "e452ac11-94db-4948-b37c-cf903855d68b",
   "metadata": {},
   "source": [
    "|           | True Bird | True Person |\n",
    "|-----------|-----------|-------------|\n",
    "| NN Bird   | 93        | 0           |\n",
    "| NN Person | 6         | 1           |\n",
    "\n",
    "|           | True Bird | True Person |\n",
    "|-----------|-----------|-------------|\n",
    "| NN Bird   | 97        | 0           |\n",
    "| NN Person | 2         | 1           |\n",
    "\n",
    "# Problem 2\n",
    "a) $\\text{PDF of 2 identical exponential functions} = \\lambda^2 ze^{-\\lambda z}$ where $\\lambda = \\text{rate parameter}$ according to [Wikipedia article on Exponential Distributions](https://en.wikipedia.org/wiki/Exponential_distribution#Sum_of_two_independent_exponential_random_variables)\n",
    "\n",
    "b) The pdf follows the standard Cauchy distribution. $$\\frac{X_1}{X_2} \\sim \\text{Cauchy(0,1)}\\\\\n",
    "f(x;0,1)={\\frac {1}{\\pi (1+x^{2})}}$$ from the [Wikipedia article on Normal Distributions](https://en.wikipedia.org/wiki/Normal_distribution#Operations_on_two_independent_standard_normal_variables)\n",
    "\n",
    "c) It will be Rayleigh distributed from [Wikipedia article on Rayleigh distributions](https://en.wikipedia.org/wiki/Rayleigh_distribution#Related_distributions)\n"
   ]
  },
  {
   "cell_type": "code",
   "execution_count": null,
   "id": "bcfb81b5-4ab0-4e35-9cb2-9bc00f732c25",
   "metadata": {},
   "outputs": [],
   "source": []
  }
 ],
 "metadata": {
  "kernelspec": {
   "display_name": "Python 3",
   "language": "python",
   "name": "python3"
  },
  "language_info": {
   "codemirror_mode": {
    "name": "ipython",
    "version": 3
   },
   "file_extension": ".py",
   "mimetype": "text/x-python",
   "name": "python",
   "nbconvert_exporter": "python",
   "pygments_lexer": "ipython3",
   "version": "3.8.8"
  }
 },
 "nbformat": 4,
 "nbformat_minor": 5
}
